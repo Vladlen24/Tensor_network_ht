{
 "cells": [
  {
   "cell_type": "code",
   "execution_count": 2,
   "id": "7aac0644",
   "metadata": {},
   "outputs": [],
   "source": [
    "import numpy as np\n",
    "from numpy import linalg as LA\n",
    "from ncon import ncon\n",
    "import matplotlib.pyplot as plt\n",
    "from operator import itemgetter"
   ]
  },
  {
   "cell_type": "code",
   "execution_count": 4,
   "id": "532ea583",
   "metadata": {},
   "outputs": [
    {
     "data": {
      "text/plain": [
       "array([[ 6.,  0.,  0.,  0.,  5.,  0.,  0.,  5.],\n",
       "       [ 5.,  0.,  0.,  5., -6.,  0.,  0.,  0.],\n",
       "       [ 5.,  0.,  0.,  5.,  0.,  0.,  0.,  0.],\n",
       "       [ 0.,  0.,  0.,  0.,  5.,  0.,  0.,  5.],\n",
       "       [ 5.,  0.,  0.,  5.,  0.,  0.,  0.,  0.],\n",
       "       [ 0.,  0.,  0.,  0.,  5.,  0.,  0.,  5.],\n",
       "       [ 0.,  0.,  0., -6.,  5.,  0.,  0.,  5.],\n",
       "       [ 5.,  0.,  0.,  5.,  0.,  0.,  0.,  6.]])"
      ]
     },
     "execution_count": 4,
     "metadata": {},
     "output_type": "execute_result"
    }
   ],
   "source": [
    "h = 5\n",
    "J = 3\n",
    "sigma_x = np.array([[0,1],[1,0]])\n",
    "sigma_z = np.array([[1,0],[0,-1]])\n",
    "I = np.eye(2)\n",
    "H = h*np.tensordot(sigma_x, np.tensordot(I,I, axes=0), axes=0) + J*np.tensordot(sigma_z, np.tensordot(sigma_z,I, axes=0), axes=0) + h*np.tensordot(I, np.tensordot(sigma_x,I, axes=0), axes=0) + J*np.tensordot(I, np.tensordot(sigma_z,sigma_z, axes=0), axes=0)\n",
    "H = H.reshape((8,8))\n",
    "H"
   ]
  },
  {
   "cell_type": "code",
   "execution_count": 5,
   "id": "05b050fd",
   "metadata": {},
   "outputs": [
    {
     "data": {
      "text/plain": [
       "array([ 0.        ,  0.        ,  0.        ,  0.        ,  0.17165167,\n",
       "        0.53545511, -0.17165167, -0.53545511])"
      ]
     },
     "execution_count": 5,
     "metadata": {},
     "output_type": "execute_result"
    }
   ],
   "source": [
    "w,v = np.linalg.eig(H)\n",
    "w = abs(w)\n",
    "lambda_min = min(enumerate(w), key=itemgetter(1))[1]\n",
    "index = min(enumerate(w), key=itemgetter(1))[0]\n",
    "min_state = v[index]\n",
    "min_state"
   ]
  },
  {
   "cell_type": "code",
   "execution_count": 6,
   "id": "e05d271d",
   "metadata": {},
   "outputs": [],
   "source": [
    "Null = np.array([[0,0],[0,0]])\n",
    "H_left = np.array([h*sigma_x, J*sigma_z, I]).transpose((1,0,2))\n",
    "H_mid = np.array([[I, Null, Null], \n",
    "         [sigma_z, Null, Null],\n",
    "         [h*sigma_x, J*sigma_z, I]]).transpose((0,2,1,3))\n",
    "H_right = np.array([I, sigma_z, h*sigma_x])\n"
   ]
  },
  {
   "cell_type": "code",
   "execution_count": 63,
   "id": "e17e02c9",
   "metadata": {},
   "outputs": [],
   "source": [
    "n = 2\n",
    "r = 3\n",
    "# G1 = np.random.rand(r,n)\n",
    "# G2 = np.random.rand(r,r,n)\n",
    "# G3 = np.random.rand(r,n)\n",
    "G1 = np.array([[1,2],[3,4],[5,6]])\n",
    "G2 = np.array([[[1,0],[0,1],[0,0]],[[1,1],[3,1],[2,1]],[[4,1],[6,4],[0,1]]])\n",
    "G3 = np.array([[3,1],[2,6],[5,4]])\n",
    "E = np.eye(n)\n",
    "E3 = np.array([E, E, E])\n",
    "E4 = np.array([[E, Null, Null],[Null, E, Null],[Null, Null, E]]).transpose((0,2,1,3))"
   ]
  },
  {
   "cell_type": "code",
   "execution_count": 70,
   "id": "f7b4313b",
   "metadata": {},
   "outputs": [],
   "source": [
    "# dL/dG1:\n",
    "A = np.einsum('abd,be,cfh,fdgi,gej,kil,lj->cahk',G2.conj(),G3.conj(),H_left,H_mid,H_right,G2.transpose((0,2,1)),G3)\n",
    "B = np.einsum('abd,be,cfh,fdgi,gej,kil,lj->cahk',G2.conj(),G3.conj(),E3.transpose((1,0,2)),E4,E3,G2.transpose((0,2,1)),G3)\n",
    "A = A.reshape((n*r,n*r))\n",
    "B = B.reshape((n*r,n*r))\n",
    "C = np.linalg.inv(B) * A"
   ]
  },
  {
   "cell_type": "code",
   "execution_count": 74,
   "id": "05040641",
   "metadata": {},
   "outputs": [],
   "source": [
    "w,v = np.linalg.eig(C)\n",
    "w = abs(w)\n",
    "lambda_min = min(enumerate(w), key=itemgetter(1))[1]\n",
    "index = min(enumerate(w), key=itemgetter(1))[0]\n",
    "min_state = v[index]\n",
    "G1 = min_state.reshape((r,n))       #update G1"
   ]
  },
  {
   "cell_type": "code",
   "execution_count": 75,
   "id": "d67cc976",
   "metadata": {},
   "outputs": [
    {
     "data": {
      "text/plain": [
       "(3, 2)"
      ]
     },
     "execution_count": 75,
     "metadata": {},
     "output_type": "execute_result"
    }
   ],
   "source": [
    "G1.shape"
   ]
  },
  {
   "cell_type": "code",
   "execution_count": 88,
   "id": "3446842b",
   "metadata": {},
   "outputs": [
    {
     "ename": "LinAlgError",
     "evalue": "Singular matrix",
     "output_type": "error",
     "traceback": [
      "\u001b[0;31m---------------------------------------------------------------------------\u001b[0m",
      "\u001b[0;31mLinAlgError\u001b[0m                               Traceback (most recent call last)",
      "\u001b[0;32m<ipython-input-88-4d989225eff8>\u001b[0m in \u001b[0;36m<module>\u001b[0;34m\u001b[0m\n\u001b[1;32m      4\u001b[0m \u001b[0mA\u001b[0m \u001b[0;34m=\u001b[0m \u001b[0mA\u001b[0m\u001b[0;34m.\u001b[0m\u001b[0mreshape\u001b[0m\u001b[0;34m(\u001b[0m\u001b[0;34m(\u001b[0m\u001b[0mn\u001b[0m\u001b[0;34m*\u001b[0m\u001b[0mr\u001b[0m\u001b[0;34m**\u001b[0m\u001b[0;36m2\u001b[0m\u001b[0;34m,\u001b[0m\u001b[0mn\u001b[0m\u001b[0;34m*\u001b[0m\u001b[0mr\u001b[0m\u001b[0;34m**\u001b[0m\u001b[0;36m2\u001b[0m\u001b[0;34m)\u001b[0m\u001b[0;34m)\u001b[0m\u001b[0;34m\u001b[0m\u001b[0;34m\u001b[0m\u001b[0m\n\u001b[1;32m      5\u001b[0m \u001b[0mB\u001b[0m \u001b[0;34m=\u001b[0m \u001b[0mB\u001b[0m\u001b[0;34m.\u001b[0m\u001b[0mreshape\u001b[0m\u001b[0;34m(\u001b[0m\u001b[0;34m(\u001b[0m\u001b[0mn\u001b[0m\u001b[0;34m*\u001b[0m\u001b[0mr\u001b[0m\u001b[0;34m**\u001b[0m\u001b[0;36m2\u001b[0m\u001b[0;34m,\u001b[0m\u001b[0mn\u001b[0m\u001b[0;34m*\u001b[0m\u001b[0mr\u001b[0m\u001b[0;34m**\u001b[0m\u001b[0;36m2\u001b[0m\u001b[0;34m)\u001b[0m\u001b[0;34m)\u001b[0m\u001b[0;34m\u001b[0m\u001b[0;34m\u001b[0m\u001b[0m\n\u001b[0;32m----> 6\u001b[0;31m \u001b[0mC\u001b[0m \u001b[0;34m=\u001b[0m \u001b[0mnp\u001b[0m\u001b[0;34m.\u001b[0m\u001b[0mlinalg\u001b[0m\u001b[0;34m.\u001b[0m\u001b[0minv\u001b[0m\u001b[0;34m(\u001b[0m\u001b[0mB\u001b[0m\u001b[0;34m)\u001b[0m \u001b[0;34m*\u001b[0m \u001b[0mA\u001b[0m\u001b[0;34m\u001b[0m\u001b[0;34m\u001b[0m\u001b[0m\n\u001b[0m",
      "\u001b[0;32m<__array_function__ internals>\u001b[0m in \u001b[0;36minv\u001b[0;34m(*args, **kwargs)\u001b[0m\n",
      "\u001b[0;32m~/.local/lib/python3.8/site-packages/numpy/linalg/linalg.py\u001b[0m in \u001b[0;36minv\u001b[0;34m(a)\u001b[0m\n\u001b[1;32m    543\u001b[0m     \u001b[0msignature\u001b[0m \u001b[0;34m=\u001b[0m \u001b[0;34m'D->D'\u001b[0m \u001b[0;32mif\u001b[0m \u001b[0misComplexType\u001b[0m\u001b[0;34m(\u001b[0m\u001b[0mt\u001b[0m\u001b[0;34m)\u001b[0m \u001b[0;32melse\u001b[0m \u001b[0;34m'd->d'\u001b[0m\u001b[0;34m\u001b[0m\u001b[0;34m\u001b[0m\u001b[0m\n\u001b[1;32m    544\u001b[0m     \u001b[0mextobj\u001b[0m \u001b[0;34m=\u001b[0m \u001b[0mget_linalg_error_extobj\u001b[0m\u001b[0;34m(\u001b[0m\u001b[0m_raise_linalgerror_singular\u001b[0m\u001b[0;34m)\u001b[0m\u001b[0;34m\u001b[0m\u001b[0;34m\u001b[0m\u001b[0m\n\u001b[0;32m--> 545\u001b[0;31m     \u001b[0mainv\u001b[0m \u001b[0;34m=\u001b[0m \u001b[0m_umath_linalg\u001b[0m\u001b[0;34m.\u001b[0m\u001b[0minv\u001b[0m\u001b[0;34m(\u001b[0m\u001b[0ma\u001b[0m\u001b[0;34m,\u001b[0m \u001b[0msignature\u001b[0m\u001b[0;34m=\u001b[0m\u001b[0msignature\u001b[0m\u001b[0;34m,\u001b[0m \u001b[0mextobj\u001b[0m\u001b[0;34m=\u001b[0m\u001b[0mextobj\u001b[0m\u001b[0;34m)\u001b[0m\u001b[0;34m\u001b[0m\u001b[0;34m\u001b[0m\u001b[0m\n\u001b[0m\u001b[1;32m    546\u001b[0m     \u001b[0;32mreturn\u001b[0m \u001b[0mwrap\u001b[0m\u001b[0;34m(\u001b[0m\u001b[0mainv\u001b[0m\u001b[0;34m.\u001b[0m\u001b[0mastype\u001b[0m\u001b[0;34m(\u001b[0m\u001b[0mresult_t\u001b[0m\u001b[0;34m,\u001b[0m \u001b[0mcopy\u001b[0m\u001b[0;34m=\u001b[0m\u001b[0;32mFalse\u001b[0m\u001b[0;34m)\u001b[0m\u001b[0;34m)\u001b[0m\u001b[0;34m\u001b[0m\u001b[0;34m\u001b[0m\u001b[0m\n\u001b[1;32m    547\u001b[0m \u001b[0;34m\u001b[0m\u001b[0m\n",
      "\u001b[0;32m~/.local/lib/python3.8/site-packages/numpy/linalg/linalg.py\u001b[0m in \u001b[0;36m_raise_linalgerror_singular\u001b[0;34m(err, flag)\u001b[0m\n\u001b[1;32m     86\u001b[0m \u001b[0;34m\u001b[0m\u001b[0m\n\u001b[1;32m     87\u001b[0m \u001b[0;32mdef\u001b[0m \u001b[0m_raise_linalgerror_singular\u001b[0m\u001b[0;34m(\u001b[0m\u001b[0merr\u001b[0m\u001b[0;34m,\u001b[0m \u001b[0mflag\u001b[0m\u001b[0;34m)\u001b[0m\u001b[0;34m:\u001b[0m\u001b[0;34m\u001b[0m\u001b[0;34m\u001b[0m\u001b[0m\n\u001b[0;32m---> 88\u001b[0;31m     \u001b[0;32mraise\u001b[0m \u001b[0mLinAlgError\u001b[0m\u001b[0;34m(\u001b[0m\u001b[0;34m\"Singular matrix\"\u001b[0m\u001b[0;34m)\u001b[0m\u001b[0;34m\u001b[0m\u001b[0;34m\u001b[0m\u001b[0m\n\u001b[0m\u001b[1;32m     89\u001b[0m \u001b[0;34m\u001b[0m\u001b[0m\n\u001b[1;32m     90\u001b[0m \u001b[0;32mdef\u001b[0m \u001b[0m_raise_linalgerror_nonposdef\u001b[0m\u001b[0;34m(\u001b[0m\u001b[0merr\u001b[0m\u001b[0;34m,\u001b[0m \u001b[0mflag\u001b[0m\u001b[0;34m)\u001b[0m\u001b[0;34m:\u001b[0m\u001b[0;34m\u001b[0m\u001b[0;34m\u001b[0m\u001b[0m\n",
      "\u001b[0;31mLinAlgError\u001b[0m: Singular matrix"
     ]
    }
   ],
   "source": [
    "# dL/dG2:\n",
    "A = np.einsum('ac,be,cfh,fdgi,gej,hk,lj->adbkil',G1.conj(),G3.conj(),H_left,H_mid,H_right,G1.transpose((1,0)),G3)\n",
    "B = np.einsum('ac,be,cfh,fdgi,gej,hk,lj->adbkil',G1.conj(),G3.conj(),E3.transpose((1,0,2)),E4,E3,G1.transpose((1,0)),G3)\n",
    "A = A.reshape((n*r**2,n*r**2))\n",
    "B = B.reshape((n*r**2,n*r**2))\n",
    "C = np.linalg.inv(B) * A"
   ]
  },
  {
   "cell_type": "code",
   "execution_count": 80,
   "id": "34c3ced3",
   "metadata": {},
   "outputs": [
    {
     "data": {
      "text/plain": [
       "array([[  0.        ,   0.        ,   0.        ,   0.        ,\n",
       "          0.        ,   0.        ,   0.        ,   0.        ,\n",
       "          0.        ,   0.        ,   0.        ,   0.        ,\n",
       "          0.        ,   0.        ,   0.        ,   0.        ,\n",
       "          0.        ,   0.        ],\n",
       "       [  0.        ,   0.        ,   0.        ,   0.        ,\n",
       "          0.        ,   0.        ,   0.        ,   0.        ,\n",
       "          0.        ,   0.        ,   0.        ,   0.        ,\n",
       "          0.        ,   0.        ,   0.        ,   0.        ,\n",
       "          0.        ,   0.        ],\n",
       "       [  0.        ,   0.        ,   0.        ,   0.        ,\n",
       "          0.        ,   0.        ,   0.        ,   0.        ,\n",
       "          0.        ,   0.        ,   0.        ,   0.        ,\n",
       "          0.        ,   0.        ,   0.        ,   0.        ,\n",
       "          0.        ,   0.        ],\n",
       "       [  0.        ,   0.        ,   0.        ,   0.        ,\n",
       "          0.        ,   0.        ,   0.        ,   0.        ,\n",
       "          0.        ,   0.        ,   0.        ,   0.        ,\n",
       "          0.        ,   0.        ,   0.        ,   0.        ,\n",
       "          0.        ,   0.        ],\n",
       "       [  0.        ,   0.        ,   0.        ,   0.        ,\n",
       "          0.        ,   0.        ,   0.        ,   0.        ,\n",
       "          0.        ,   0.        ,   0.        ,   0.        ,\n",
       "          0.        ,   0.        ,   0.        ,   0.        ,\n",
       "          0.        ,   0.        ],\n",
       "       [  0.        ,   0.        ,   0.        ,   0.        ,\n",
       "          0.        ,   0.        ,   0.        ,   0.        ,\n",
       "          0.        ,   0.        ,   0.        ,   0.        ,\n",
       "          0.        ,   0.        ,   0.        ,   0.        ,\n",
       "          0.        ,   0.        ],\n",
       "       [  0.        ,   0.        ,   0.        ,   0.        ,\n",
       "          0.        ,   0.        ,   9.21391866,  11.05670239,\n",
       "         17.50644545,   0.        ,   0.        ,   0.        ,\n",
       "        -11.96102532, -14.35323038, -22.72594811,   0.        ,\n",
       "          0.        ,   0.        ],\n",
       "       [  0.        ,   0.        ,   0.        ,   0.        ,\n",
       "          0.        ,   0.        ,  11.05670239,  36.85567463,\n",
       "         31.32732344,   0.        ,   0.        ,   0.        ,\n",
       "        -14.35323038, -47.84410128, -40.66748608,   0.        ,\n",
       "          0.        ,   0.        ],\n",
       "       [  0.        ,   0.        ,   0.        ,   0.        ,\n",
       "          0.        ,   0.        ,  17.50644545,  31.32732344,\n",
       "         37.7770665 ,   0.        ,   0.        ,   0.        ,\n",
       "        -22.72594811, -40.66748608, -49.04020381,   0.        ,\n",
       "          0.        ,   0.        ],\n",
       "       [  0.        ,   0.        ,   0.        ,   0.        ,\n",
       "          0.        ,   0.        ,   0.        ,   0.        ,\n",
       "          0.        ,   9.21391866,  11.05670239,  17.50644545,\n",
       "          0.        ,   0.        ,   0.        , -11.96102532,\n",
       "        -14.35323038, -22.72594811],\n",
       "       [  0.        ,   0.        ,   0.        ,   0.        ,\n",
       "          0.        ,   0.        ,   0.        ,   0.        ,\n",
       "          0.        ,  11.05670239,  36.85567463,  31.32732344,\n",
       "          0.        ,   0.        ,   0.        , -14.35323038,\n",
       "        -47.84410128, -40.66748608],\n",
       "       [  0.        ,   0.        ,   0.        ,   0.        ,\n",
       "          0.        ,   0.        ,   0.        ,   0.        ,\n",
       "          0.        ,  17.50644545,  31.32732344,  37.7770665 ,\n",
       "          0.        ,   0.        ,   0.        , -22.72594811,\n",
       "        -40.66748608, -49.04020381],\n",
       "       [  0.        ,   0.        ,   0.        ,   0.        ,\n",
       "          0.        ,   0.        , -11.96102532, -14.35323038,\n",
       "        -22.72594811,   0.        ,   0.        ,   0.        ,\n",
       "         20.78608134,  24.94329761,  39.49355455,   0.        ,\n",
       "          0.        ,   0.        ],\n",
       "       [  0.        ,   0.        ,   0.        ,   0.        ,\n",
       "          0.        ,   0.        , -14.35323038, -47.84410128,\n",
       "        -40.66748608,   0.        ,   0.        ,   0.        ,\n",
       "         24.94329761,  83.14432537,  70.67267656,   0.        ,\n",
       "          0.        ,   0.        ],\n",
       "       [  0.        ,   0.        ,   0.        ,   0.        ,\n",
       "          0.        ,   0.        , -22.72594811, -40.66748608,\n",
       "        -49.04020381,   0.        ,   0.        ,   0.        ,\n",
       "         39.49355455,  70.67267656,  85.2229335 ,   0.        ,\n",
       "          0.        ,   0.        ],\n",
       "       [  0.        ,   0.        ,   0.        ,   0.        ,\n",
       "          0.        ,   0.        ,   0.        ,   0.        ,\n",
       "          0.        , -11.96102532, -14.35323038, -22.72594811,\n",
       "          0.        ,   0.        ,   0.        ,  20.78608134,\n",
       "         24.94329761,  39.49355455],\n",
       "       [  0.        ,   0.        ,   0.        ,   0.        ,\n",
       "          0.        ,   0.        ,   0.        ,   0.        ,\n",
       "          0.        , -14.35323038, -47.84410128, -40.66748608,\n",
       "          0.        ,   0.        ,   0.        ,  24.94329761,\n",
       "         83.14432537,  70.67267656],\n",
       "       [  0.        ,   0.        ,   0.        ,   0.        ,\n",
       "          0.        ,   0.        ,   0.        ,   0.        ,\n",
       "          0.        , -22.72594811, -40.66748608, -49.04020381,\n",
       "          0.        ,   0.        ,   0.        ,  39.49355455,\n",
       "         70.67267656,  85.2229335 ]])"
      ]
     },
     "execution_count": 80,
     "metadata": {},
     "output_type": "execute_result"
    }
   ],
   "source": [
    "B"
   ]
  },
  {
   "cell_type": "code",
   "execution_count": null,
   "id": "743fa99f",
   "metadata": {},
   "outputs": [],
   "source": [
    "w,v = np.linalg.eig(C)\n",
    "w = abs(w)\n",
    "lambda_min = min(enumerate(w), key=itemgetter(1))[1]\n",
    "index = min(enumerate(w), key=itemgetter(1))[0]\n",
    "min_state = v[index]\n",
    "G2 = min_state.reshape((r,n))       #update G2"
   ]
  },
  {
   "cell_type": "code",
   "execution_count": 81,
   "id": "b85112d0",
   "metadata": {},
   "outputs": [
    {
     "data": {
      "text/plain": [
       "(3, 3, 2)"
      ]
     },
     "execution_count": 81,
     "metadata": {},
     "output_type": "execute_result"
    }
   ],
   "source": [
    "G2.shape"
   ]
  },
  {
   "cell_type": "code",
   "execution_count": 84,
   "id": "19a34e79",
   "metadata": {},
   "outputs": [],
   "source": [
    "# dL/dG3:\n",
    "A = np.einsum('ac,abd,cfh,fdgi,gej,hk,kil->belj',G1.conj(),G2.conj(),H_left,H_mid,H_right,G1.transpose((1,0)),G2.transpose((0,2,1)))\n",
    "B = np.einsum('ac,abd,cfh,fdgi,gej,hk,kil->belj',G1.conj(),G2.conj(),E3.transpose((1,0,2)),E4,E3,G1.transpose((1,0)),G2.transpose((0,2,1)))\n",
    "A = A.reshape((n*r,n*r))\n",
    "B = B.reshape((n*r,n*r))\n",
    "C = np.linalg.inv(B) * A"
   ]
  },
  {
   "cell_type": "code",
   "execution_count": 85,
   "id": "7a9163d0",
   "metadata": {},
   "outputs": [],
   "source": [
    "w,v = np.linalg.eig(C)\n",
    "w = abs(w)\n",
    "lambda_min = min(enumerate(w), key=itemgetter(1))[1]\n",
    "index = min(enumerate(w), key=itemgetter(1))[0]\n",
    "min_state = v[index]\n",
    "G3 = min_state.reshape((r,n))       #update G3"
   ]
  },
  {
   "cell_type": "code",
   "execution_count": 87,
   "id": "d17dbee6",
   "metadata": {},
   "outputs": [
    {
     "data": {
      "text/plain": [
       "(3, 2)"
      ]
     },
     "execution_count": 87,
     "metadata": {},
     "output_type": "execute_result"
    }
   ],
   "source": [
    "G3.shape"
   ]
  },
  {
   "cell_type": "code",
   "execution_count": null,
   "id": "93cd5827",
   "metadata": {},
   "outputs": [],
   "source": []
  }
 ],
 "metadata": {
  "kernelspec": {
   "display_name": "Python 3",
   "language": "python",
   "name": "python3"
  },
  "language_info": {
   "codemirror_mode": {
    "name": "ipython",
    "version": 3
   },
   "file_extension": ".py",
   "mimetype": "text/x-python",
   "name": "python",
   "nbconvert_exporter": "python",
   "pygments_lexer": "ipython3",
   "version": "3.8.8"
  }
 },
 "nbformat": 4,
 "nbformat_minor": 5
}
