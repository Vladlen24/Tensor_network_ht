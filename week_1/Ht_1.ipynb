{
 "cells": [
  {
   "cell_type": "code",
   "execution_count": 46,
   "id": "c9791a1a",
   "metadata": {},
   "outputs": [],
   "source": [
    "import numpy as np\n",
    "from math import *\n",
    "\n",
    "def R_y(theta):\n",
    "    return np.matrix([[cos(theta/2), -sin(theta/2)], [sin(theta/2), cos(theta/2)]])\n",
    "\n",
    "x = np.array([1, 0])\n",
    "a = 1/sqrt(2)\n",
    "H = a * np.matrix([[1, 1], [1, -1]])\n",
    "Cnot = np.array([[1,0,0,0],[0,0,0,1],[0,0,1,0],[0,1,0,0]])\n",
    "Cnot = Cnot.reshape((2,2,2,2))"
   ]
  },
  {
   "cell_type": "code",
   "execution_count": 52,
   "id": "8e8032d6",
   "metadata": {},
   "outputs": [],
   "source": [
    "H_0 = np.einsum('i,ij->j', x, H)\n",
    "R = np.einsum('p,pq->q', x, R_y(pi/2))\n",
    "C1 = np.einsum('k,j,kjlm,m->l', x, H_0, Cnot, x)\n",
    "C2 = np.einsum('q,lqsr,s,r->l', R, Cnot, x, x)\n",
    "Result = np.einsum('l,l', C1, C2)"
   ]
  },
  {
   "cell_type": "code",
   "execution_count": 53,
   "id": "5ccf7b49",
   "metadata": {},
   "outputs": [
    {
     "data": {
      "text/plain": [
       "0.5"
      ]
     },
     "execution_count": 53,
     "metadata": {},
     "output_type": "execute_result"
    }
   ],
   "source": [
    "Result"
   ]
  },
  {
   "cell_type": "code",
   "execution_count": null,
   "id": "fb23d251",
   "metadata": {},
   "outputs": [],
   "source": []
  }
 ],
 "metadata": {
  "kernelspec": {
   "display_name": "Python 3",
   "language": "python",
   "name": "python3"
  },
  "language_info": {
   "codemirror_mode": {
    "name": "ipython",
    "version": 3
   },
   "file_extension": ".py",
   "mimetype": "text/x-python",
   "name": "python",
   "nbconvert_exporter": "python",
   "pygments_lexer": "ipython3",
   "version": "3.8.8"
  }
 },
 "nbformat": 4,
 "nbformat_minor": 5
}
