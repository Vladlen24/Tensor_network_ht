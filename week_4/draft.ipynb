{
 "cells": [
  {
   "cell_type": "code",
   "execution_count": 1,
   "id": "ef4a9020",
   "metadata": {},
   "outputs": [],
   "source": [
    "import numpy as np\n",
    "from numpy import linalg as LA\n",
    "from ncon import ncon\n",
    "import matplotlib.pyplot as plt"
   ]
  },
  {
   "cell_type": "code",
   "execution_count": 2,
   "id": "35d0fcb4",
   "metadata": {},
   "outputs": [],
   "source": [
    "# creating TT (tensor train)\n",
    "\n",
    "def TT(d, n, r):\n",
    "    TT_left = np.random.rand(n,r)\n",
    "    TT_right = np.random.rand(r,n)\n",
    "\n",
    "    TT_cores = []\n",
    "    TT_cores.append(TT_left)\n",
    "    for i in range(d-2):\n",
    "        TT_mid = np.random.rand(r,n,r)\n",
    "        TT_cores.append(TT_mid)\n",
    "    TT_cores.append(TT_right)\n",
    "\n",
    "    TT_indices = []\n",
    "    TT_indices.append([-1,1])\n",
    "    for i in range(d-2):\n",
    "        TT_indices.append([(i+1),-(i+2),(i+2)])\n",
    "    TT_indices.append([(d-1),-d])\n",
    "\n",
    "    TensorTrain = ncon(TT_cores, TT_indices)\n",
    "    return TensorTrain"
   ]
  },
  {
   "cell_type": "code",
   "execution_count": 3,
   "id": "a8f2f5f7",
   "metadata": {},
   "outputs": [],
   "source": [
    "d = 3\n",
    "n = 2\n",
    "r = 5\n",
    "A = TT(d,n,r)\n",
    "B = TT(d,n,r)"
   ]
  },
  {
   "cell_type": "code",
   "execution_count": 71,
   "id": "f81f9788",
   "metadata": {},
   "outputs": [],
   "source": [
    "d = 10\n",
    "n = 2\n",
    "r = 5\n",
    "\n",
    "A_TT_left = np.random.rand(n,r)\n",
    "A_TT_right = np.random.rand(r,n)\n",
    "A_TT_cores = []\n",
    "A_TT_cores.append(A_TT_left)\n",
    "for i in range(d-2):\n",
    "    A_TT_mid = np.random.rand(r,n,r)\n",
    "    A_TT_cores.append(A_TT_mid)\n",
    "A_TT_cores.append(A_TT_right)\n",
    "A_TT_indices = []\n",
    "A_TT_indices.append([-1,1])\n",
    "for i in range(d-2):\n",
    "    A_TT_indices.append([(i+1),-(i+2),(i+2)])\n",
    "A_TT_indices.append([(d-1),-d])\n",
    "A = ncon(A_TT_cores, A_TT_indices)\n",
    "\n",
    "B_TT_left = np.random.rand(n,r)\n",
    "B_TT_right = np.random.rand(r,n)\n",
    "B_TT_cores = []\n",
    "B_TT_cores.append(B_TT_left)\n",
    "for i in range(d-2):\n",
    "    B_TT_mid = np.random.rand(r,n,r)\n",
    "    B_TT_cores.append(B_TT_mid)\n",
    "B_TT_cores.append(B_TT_right)\n",
    "B_TT_indices = []\n",
    "B_TT_indices.append([-1,1])\n",
    "for i in range(d-2):\n",
    "    B_TT_indices.append([(i+1),-(i+2),(i+2)])\n",
    "B_TT_indices.append([(d-1),-d])\n",
    "B = ncon(B_TT_cores, B_TT_indices)"
   ]
  },
  {
   "cell_type": "code",
   "execution_count": 72,
   "id": "99140987",
   "metadata": {},
   "outputs": [],
   "source": [
    "# scalar product of 2 TT\n",
    "\n",
    "C_left = np.einsum('ij,ik->jk', A_TT_cores[0], B_TT_cores[0])\n",
    "for i in range(d-2):\n",
    "    C_left = np.einsum('ij,jkl->ikl', C_left, A_TT_cores[i+1])\n",
    "    C_left = np.einsum('kji,ijl->kl', C_left, B_TT_cores[i+1])\n",
    "C_left = np.einsum('ij,jk->ik', C_left, A_TT_cores[d-1])\n",
    "result = np.einsum('ji,ji', C_left, B_TT_cores[d-1])"
   ]
  },
  {
   "cell_type": "code",
   "execution_count": 73,
   "id": "0e260e51",
   "metadata": {},
   "outputs": [
    {
     "data": {
      "text/plain": [
       "2423640797.579336"
      ]
     },
     "execution_count": 73,
     "metadata": {},
     "output_type": "execute_result"
    }
   ],
   "source": [
    "result"
   ]
  },
  {
   "cell_type": "code",
   "execution_count": 74,
   "id": "8cce76dc",
   "metadata": {},
   "outputs": [
    {
     "data": {
      "text/plain": [
       "array([0, 0, 1, ..., 0, 0, 0])"
      ]
     },
     "execution_count": 74,
     "metadata": {},
     "output_type": "execute_result"
    }
   ],
   "source": [
    "# unit vector\n",
    "\n",
    "d = 10\n",
    "n = 2\n",
    "r = 1\n",
    "\n",
    "Unit_vector = []\n",
    "Unit_vector.append([1,0])\n",
    "E = np.array([1,0])\n",
    "for i in range(1,d):\n",
    "    if (i+1 == 2):\n",
    "        Unit_vector.append([0,1])\n",
    "        E = np.tensordot(np.array([0,1]), E, axes=0)\n",
    "    else:\n",
    "        Unit_vector.append([1,0])\n",
    "        E = np.tensordot(np.array([1,0]), E, axes=0)\n",
    "Unit_vector = np.array(Unit_vector)\n",
    "        \n",
    "E.reshape(n**d)"
   ]
  },
  {
   "cell_type": "code",
   "execution_count": 75,
   "id": "6234640a",
   "metadata": {},
   "outputs": [
    {
     "data": {
      "text/plain": [
       "array([1234.85666003, 1657.1494953 , 1090.63037435, ..., 1237.49065299,\n",
       "        831.23144607, 1403.13506641])"
      ]
     },
     "execution_count": 75,
     "metadata": {},
     "output_type": "execute_result"
    }
   ],
   "source": [
    "A.reshape(n**d)"
   ]
  },
  {
   "cell_type": "code",
   "execution_count": 76,
   "id": "3f5b4e7f",
   "metadata": {},
   "outputs": [
    {
     "data": {
      "text/plain": [
       "array([[1, 0],\n",
       "       [0, 1],\n",
       "       [1, 0],\n",
       "       [1, 0],\n",
       "       [1, 0],\n",
       "       [1, 0],\n",
       "       [1, 0],\n",
       "       [1, 0],\n",
       "       [1, 0],\n",
       "       [1, 0]])"
      ]
     },
     "execution_count": 76,
     "metadata": {},
     "output_type": "execute_result"
    }
   ],
   "source": [
    "Unit_vector"
   ]
  },
  {
   "cell_type": "code",
   "execution_count": 82,
   "id": "cf837b13",
   "metadata": {},
   "outputs": [
    {
     "data": {
      "text/plain": [
       "478.0898442392939"
      ]
     },
     "execution_count": 82,
     "metadata": {},
     "output_type": "execute_result"
    }
   ],
   "source": [
    "A_t = []\n",
    "A_t.append(np.einsum('j,jk->k', Unit_vector[0], A_TT_cores[0]))\n",
    "for i in range(d-2):\n",
    "    A_t.append(np.einsum('j,kjl->kl', Unit_vector[i+1], A_TT_cores[i+1]))\n",
    "A_t.append(np.einsum('j,kj->k', Unit_vector[d-1], A_TT_cores[d-1]))\n",
    "\n",
    "res = np.einsum('j,jk->k', A_t[0], A_t[1])\n",
    "for i in range(2,d-2):\n",
    "    res = np.einsum('j,jk->k', res, A_t[i])\n",
    "res = np.einsum('j,j', res, A_t[d-1])\n",
    "res"
   ]
  },
  {
   "cell_type": "code",
   "execution_count": null,
   "id": "7060d8b7",
   "metadata": {},
   "outputs": [],
   "source": []
  }
 ],
 "metadata": {
  "kernelspec": {
   "display_name": "Python 3",
   "language": "python",
   "name": "python3"
  },
  "language_info": {
   "codemirror_mode": {
    "name": "ipython",
    "version": 3
   },
   "file_extension": ".py",
   "mimetype": "text/x-python",
   "name": "python",
   "nbconvert_exporter": "python",
   "pygments_lexer": "ipython3",
   "version": "3.8.8"
  }
 },
 "nbformat": 4,
 "nbformat_minor": 5
}
