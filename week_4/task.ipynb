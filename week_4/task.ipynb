{
 "cells": [
  {
   "cell_type": "code",
   "execution_count": 1,
   "id": "81c87ffc",
   "metadata": {},
   "outputs": [],
   "source": [
    "import numpy as np\n",
    "from numpy import linalg as LA\n",
    "from ncon import ncon\n",
    "import matplotlib.pyplot as plt"
   ]
  },
  {
   "cell_type": "code",
   "execution_count": 2,
   "id": "373d94f2",
   "metadata": {},
   "outputs": [],
   "source": [
    "d = 10\n",
    "n = 2\n",
    "r = 5\n",
    "\n",
    "A_TT_left = np.random.rand(n,r)\n",
    "A_TT_right = np.random.rand(r,n)\n",
    "A_TT_cores = []\n",
    "A_TT_cores.append(A_TT_left)\n",
    "for i in range(d-2):\n",
    "    A_TT_mid = np.random.rand(r,n,r)\n",
    "    A_TT_cores.append(A_TT_mid)\n",
    "A_TT_cores.append(A_TT_right)\n",
    "A_TT_indices = []\n",
    "A_TT_indices.append([-1,1])\n",
    "for i in range(d-2):\n",
    "    A_TT_indices.append([(i+1),-(i+2),(i+2)])\n",
    "A_TT_indices.append([(d-1),-d])\n",
    "A = ncon(A_TT_cores, A_TT_indices)\n",
    "\n",
    "B_TT_left = np.random.rand(n,r)\n",
    "B_TT_right = np.random.rand(r,n)\n",
    "B_TT_cores = []\n",
    "B_TT_cores.append(B_TT_left)\n",
    "for i in range(d-2):\n",
    "    B_TT_mid = np.random.rand(r,n,r)\n",
    "    B_TT_cores.append(B_TT_mid)\n",
    "B_TT_cores.append(B_TT_right)\n",
    "B_TT_indices = []\n",
    "B_TT_indices.append([-1,1])\n",
    "for i in range(d-2):\n",
    "    B_TT_indices.append([(i+1),-(i+2),(i+2)])\n",
    "B_TT_indices.append([(d-1),-d])\n",
    "B = ncon(B_TT_cores, B_TT_indices)"
   ]
  },
  {
   "cell_type": "code",
   "execution_count": 4,
   "id": "71c9e85c",
   "metadata": {},
   "outputs": [
    {
     "data": {
      "text/plain": [
       "1932168362.0773907"
      ]
     },
     "execution_count": 4,
     "metadata": {},
     "output_type": "execute_result"
    }
   ],
   "source": [
    "# scalar product of 2 TT\n",
    "\n",
    "res = np.einsum('ij,ik->jk', A_TT_cores[0], B_TT_cores[0])\n",
    "for i in range(d-2):\n",
    "    res = np.einsum('ij,jkl->ikl', res, A_TT_cores[i+1])\n",
    "    res = np.einsum('kji,ijl->kl', res, B_TT_cores[i+1])\n",
    "res = np.einsum('ij,jk->ik', res, A_TT_cores[d-1])\n",
    "res = np.einsum('ji,ji', res, B_TT_cores[d-1])\n",
    "res"
   ]
  },
  {
   "cell_type": "code",
   "execution_count": 5,
   "id": "7f976557",
   "metadata": {},
   "outputs": [
    {
     "data": {
      "text/plain": [
       "array([0, 0, 1, ..., 0, 0, 0])"
      ]
     },
     "execution_count": 5,
     "metadata": {},
     "output_type": "execute_result"
    }
   ],
   "source": [
    "# unit vector\n",
    "\n",
    "d = 10\n",
    "n = 2\n",
    "r = 1\n",
    "\n",
    "Unit_vector = []\n",
    "Unit_vector.append([1,0])\n",
    "E = np.array([1,0])\n",
    "for i in range(1,d):\n",
    "    if (i+1 == 2):\n",
    "        Unit_vector.append([0,1])\n",
    "        E = np.tensordot(np.array([0,1]), E, axes=0)\n",
    "    else:\n",
    "        Unit_vector.append([1,0])\n",
    "        E = np.tensordot(np.array([1,0]), E, axes=0)\n",
    "Unit_vector = np.array(Unit_vector)\n",
    "        \n",
    "E.reshape(n**d)"
   ]
  },
  {
   "cell_type": "code",
   "execution_count": 6,
   "id": "3a3102c9",
   "metadata": {},
   "outputs": [
    {
     "data": {
      "text/plain": [
       "463.0166961053945"
      ]
     },
     "execution_count": 6,
     "metadata": {},
     "output_type": "execute_result"
    }
   ],
   "source": [
    "A_t = []\n",
    "A_t.append(np.einsum('j,jk->k', Unit_vector[0], A_TT_cores[0]))\n",
    "for i in range(d-2):\n",
    "    A_t.append(np.einsum('j,kjl->kl', Unit_vector[i+1], A_TT_cores[i+1]))\n",
    "A_t.append(np.einsum('j,kj->k', Unit_vector[d-1], A_TT_cores[d-1]))\n",
    "\n",
    "res = np.einsum('j,jk->k', A_t[0], A_t[1])\n",
    "for i in range(2,d-2):\n",
    "    res = np.einsum('j,jk->k', res, A_t[i])\n",
    "res = np.einsum('j,j', res, A_t[d-1])\n",
    "res"
   ]
  },
  {
   "cell_type": "code",
   "execution_count": null,
   "id": "bc02bbe8",
   "metadata": {},
   "outputs": [],
   "source": []
  }
 ],
 "metadata": {
  "kernelspec": {
   "display_name": "Python 3",
   "language": "python",
   "name": "python3"
  },
  "language_info": {
   "codemirror_mode": {
    "name": "ipython",
    "version": 3
   },
   "file_extension": ".py",
   "mimetype": "text/x-python",
   "name": "python",
   "nbconvert_exporter": "python",
   "pygments_lexer": "ipython3",
   "version": "3.8.8"
  }
 },
 "nbformat": 4,
 "nbformat_minor": 5
}
