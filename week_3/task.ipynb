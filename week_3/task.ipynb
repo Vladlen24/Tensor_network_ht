{
 "cells": [
  {
   "cell_type": "code",
   "execution_count": 1,
   "id": "b41f7ef9",
   "metadata": {},
   "outputs": [],
   "source": [
    "import numpy as np\n",
    "from numpy import linalg as LA\n",
    "from ncon import ncon\n",
    "import matplotlib.pyplot as plt"
   ]
  },
  {
   "cell_type": "code",
   "execution_count": 2,
   "id": "d23fccd9",
   "metadata": {},
   "outputs": [],
   "source": [
    "n = 50\n",
    "A = []\n",
    "for i1 in range(n):\n",
    "    for i2 in range(n):\n",
    "        for i3 in range(n):\n",
    "            for i4 in range(n):\n",
    "                A.append(np.sin(i1+i2+i3+i4))\n",
    "A = np.array(A)"
   ]
  },
  {
   "cell_type": "code",
   "execution_count": 3,
   "id": "56623e45",
   "metadata": {},
   "outputs": [
    {
     "name": "stdout",
     "output_type": "stream",
     "text": [
      "r1 = 2 eps = 1.3420837404095732e-11\n"
     ]
    }
   ],
   "source": [
    "U,S,V = LA.svd(A.reshape((n**2, n**2)), full_matrices = False)\n",
    "\n",
    "eps = 3e-7\n",
    "r_del = 0\n",
    "while(S[r_del] > eps and r_del < n-1):\n",
    "    r_del += 1    \n",
    "epsilon = np.sqrt(sum(S[r_del:]**2))\n",
    "print(\"r1 = \" + str(r_del), \"eps = \" + str(epsilon))\n",
    "\n",
    "r1 = r_del\n",
    "U1 = U[:,:r1]\n",
    "S1 = np.diag(S[:r1])\n",
    "V1 = V[:r1,:]"
   ]
  },
  {
   "cell_type": "code",
   "execution_count": 4,
   "id": "93ee2bb6",
   "metadata": {},
   "outputs": [
    {
     "name": "stdout",
     "output_type": "stream",
     "text": [
      "r2 = 2 eps = 2.173796106967566e-15\n"
     ]
    }
   ],
   "source": [
    "U1 = U1.reshape((n,n*r1))\n",
    "U11,S11,V11 = LA.svd(U1, full_matrices = False)\n",
    "\n",
    "eps = 3e-7\n",
    "r_del = 0\n",
    "while(S11[r_del] > eps and r_del < n-1):\n",
    "    r_del += 1    \n",
    "epsilon = np.sqrt(sum(S11[r_del:]**2))\n",
    "print(\"r2 = \" + str(r_del), \"eps = \" + str(epsilon))\n",
    "\n",
    "r2 = r_del\n",
    "U11 = U11[:,:r2]\n",
    "S11 = np.diag(S11[:r2])\n",
    "V11 = V11[:r2,:]\n",
    "\n",
    "V11 = S11 @ V11\n",
    "V11 = V11.reshape((r2,n,r1))"
   ]
  },
  {
   "cell_type": "code",
   "execution_count": 5,
   "id": "d1ba06b2",
   "metadata": {},
   "outputs": [
    {
     "name": "stdout",
     "output_type": "stream",
     "text": [
      "r3 = 2 eps = 1.5501136294462293e-12\n"
     ]
    }
   ],
   "source": [
    "A12 = S1 @ V1\n",
    "U12,S12,V12 = LA.svd(A12.reshape((r1*n,n)), full_matrices = False)\n",
    "\n",
    "eps = 3e-7\n",
    "r_del = 0\n",
    "while(S12[r_del] > eps and r_del < n-1):\n",
    "    r_del += 1    \n",
    "epsilon = np.sqrt(sum(S12[r_del:]**2))\n",
    "print(\"r3 = \" + str(r_del), \"eps = \" + str(epsilon))\n",
    "\n",
    "r3 = r_del\n",
    "U12 = U12[:,:r3]\n",
    "S12 = np.diag(S12[:r3])\n",
    "V12 = V12[:r3,:]\n",
    "\n",
    "V12 = S12 @ V12\n",
    "U12 = U12.reshape((r1,n,r3))"
   ]
  },
  {
   "cell_type": "code",
   "execution_count": 6,
   "id": "cb018cb6",
   "metadata": {},
   "outputs": [
    {
     "name": "stdout",
     "output_type": "stream",
     "text": [
      "eps_AB = 8.473796271288757e-16\n"
     ]
    }
   ],
   "source": [
    "A = A.reshape((n,n,n,n))\n",
    "B = ncon([U11, V11, U12, V12], [[-1,1],[1,-2,2],[2,-3,3],[3,-4]])\n",
    "eps_AB = LA.norm(A-B) / LA.norm(A)\n",
    "print(\"eps_AB = \" + str(eps_AB))"
   ]
  },
  {
   "cell_type": "code",
   "execution_count": 7,
   "id": "a3811d25",
   "metadata": {},
   "outputs": [
    {
     "name": "stdout",
     "output_type": "stream",
     "text": [
      "rang of TT is 2\n"
     ]
    }
   ],
   "source": [
    "r = max(r2, r1, r3)\n",
    "print(\"rang of TT is \" + str(r))"
   ]
  },
  {
   "cell_type": "code",
   "execution_count": null,
   "id": "f730215c",
   "metadata": {},
   "outputs": [],
   "source": []
  }
 ],
 "metadata": {
  "kernelspec": {
   "display_name": "Python 3",
   "language": "python",
   "name": "python3"
  },
  "language_info": {
   "codemirror_mode": {
    "name": "ipython",
    "version": 3
   },
   "file_extension": ".py",
   "mimetype": "text/x-python",
   "name": "python",
   "nbconvert_exporter": "python",
   "pygments_lexer": "ipython3",
   "version": "3.8.8"
  }
 },
 "nbformat": 4,
 "nbformat_minor": 5
}
