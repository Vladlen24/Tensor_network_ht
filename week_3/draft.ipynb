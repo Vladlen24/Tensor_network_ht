{
 "cells": [
  {
   "cell_type": "code",
   "execution_count": 31,
   "id": "f9338701",
   "metadata": {},
   "outputs": [],
   "source": [
    "import numpy as np\n",
    "from numpy import linalg as LA\n",
    "from ncon import ncon\n",
    "import matplotlib.pyplot as plt"
   ]
  },
  {
   "cell_type": "code",
   "execution_count": 37,
   "id": "eb45956d",
   "metadata": {},
   "outputs": [
    {
     "name": "stdout",
     "output_type": "stream",
     "text": [
      "r_del = 99 eps = 26.036449533981468\n"
     ]
    },
    {
     "data": {
      "image/png": "[encoded data removed]",
      "text/plain": [
       "<Figure size 432x288 with 1 Axes>"
      ]
     },
     "metadata": {
      "needs_background": "light"
     },
     "output_type": "display_data"
    }
   ],
   "source": [
    "n = 100\n",
    "A = np.random.rand(n,n,n)\n",
    "U,S,V = LA.svd(A.reshape((n, n**2)), full_matrices = False)\n",
    "\n",
    "eps = 1e-2\n",
    "r_del = 0\n",
    "while(S[r_del] > eps and r_del < n-1):\n",
    "    r_del += 1    \n",
    "epsilon = np.sqrt(sum(S[r_del:]**2))\n",
    "print(\"r_del = \" + str(r_del), \"eps = \" + str(epsilon))\n",
    "\n",
    "eps_AB = []\n",
    "for r in range(n):\n",
    "    U_t = U[:,:r]\n",
    "    S_t = np.diag(S[:r])\n",
    "    V_t = V[:r,:]\n",
    "\n",
    "    V_t = S_t @ V_t\n",
    "    V_t = V_t.reshape((r,n,n))\n",
    "    V_t = V_t.reshape((r*n,n))\n",
    "    U_v,S_v,V_v = LA.svd(V_t, full_matrices = False)\n",
    "\n",
    "    U_v = U_v[:,:r]\n",
    "    S_v = np.diag(S_v[:r])\n",
    "    V_v = V_v[:r,:]\n",
    "\n",
    "    V_v = S_v @ V_v\n",
    "    U_v = U_v.reshape((r,n,r))\n",
    "\n",
    "    B = ncon([U_t, U_v, V_v], [[-1,1],[1,-2,2],[2,-3]])\n",
    "    eps_AB.append(LA.norm(A-B) / LA.norm(A))\n",
    "\n",
    "x = [i for i in range(n)]\n",
    "plt.plot(x, eps_AB)\n",
    "plt.ylabel(\"eps_err\", fontsize=18)\n",
    "plt.xlabel(\"eff_rank\", fontsize=18)\n",
    "plt.xlim([0,n])\n",
    "plt.ylim([0,1])\n",
    "plt.grid(True)\n",
    "plt.show()"
   ]
  },
  {
   "cell_type": "code",
   "execution_count": 43,
   "id": "e7a8db6d",
   "metadata": {},
   "outputs": [],
   "source": [
    "n = 50\n",
    "A = []\n",
    "for i1 in range(n):\n",
    "    for i2 in range(n):\n",
    "        for i3 in range(n):\n",
    "            for i4 in range(n):\n",
    "                A.append(np.sin(i1+i2+i3+i4))\n",
    "A = np.array(A)"
   ]
  },
  {
   "cell_type": "code",
   "execution_count": 48,
   "id": "e98dd9a1",
   "metadata": {},
   "outputs": [
    {
     "name": "stdout",
     "output_type": "stream",
     "text": [
      "r1 = 2 eps = 1.3420837404095732e-11\n"
     ]
    }
   ],
   "source": [
    "U,S,V = LA.svd(A.reshape((n**2, n**2)), full_matrices = False)\n",
    "\n",
    "eps = 3e-7\n",
    "r_del = 0\n",
    "while(S[r_del] > eps and r_del < n-1):\n",
    "    r_del += 1    \n",
    "epsilon = np.sqrt(sum(S[r_del:]**2))\n",
    "print(\"r1 = \" + str(r_del), \"eps = \" + str(epsilon))\n",
    "\n",
    "r1 = r_del\n",
    "U1 = U[:,:r1]\n",
    "S1 = np.diag(S[:r1])\n",
    "V1 = V[:r1,:]"
   ]
  },
  {
   "cell_type": "code",
   "execution_count": 51,
   "id": "d991693f",
   "metadata": {},
   "outputs": [
    {
     "name": "stdout",
     "output_type": "stream",
     "text": [
      "r2 = 2 eps = 2.173796106967566e-15\n"
     ]
    }
   ],
   "source": [
    "U1 = U1.reshape((n,n*r1))\n",
    "U11,S11,V11 = LA.svd(U1, full_matrices = False)\n",
    "\n",
    "eps = 3e-7\n",
    "r_del = 0\n",
    "while(S11[r_del] > eps and r_del < n-1):\n",
    "    r_del += 1    \n",
    "epsilon = np.sqrt(sum(S11[r_del:]**2))\n",
    "print(\"r2 = \" + str(r_del), \"eps = \" + str(epsilon))\n",
    "\n",
    "r2 = r_del\n",
    "U11 = U11[:,:r2]\n",
    "S11 = np.diag(S11[:r2])\n",
    "V11 = V11[:r2,:]\n",
    "\n",
    "V11 = S11 @ V11\n",
    "V11 = V11.reshape((r2,n,r1))"
   ]
  },
  {
   "cell_type": "code",
   "execution_count": 53,
   "id": "28aedc28",
   "metadata": {},
   "outputs": [
    {
     "name": "stdout",
     "output_type": "stream",
     "text": [
      "r3 = 2 eps = 1.5501136294462293e-12\n"
     ]
    }
   ],
   "source": [
    "A12 = S1 @ V1\n",
    "U12,S12,V12 = LA.svd(A12.reshape((r1*n,n)), full_matrices = False)\n",
    "\n",
    "eps = 3e-7\n",
    "r_del = 0\n",
    "while(S12[r_del] > eps and r_del < n-1):\n",
    "    r_del += 1    \n",
    "epsilon = np.sqrt(sum(S12[r_del:]**2))\n",
    "print(\"r3 = \" + str(r_del), \"eps = \" + str(epsilon))\n",
    "\n",
    "r3 = r_del\n",
    "U12 = U12[:,:r3]\n",
    "S12 = np.diag(S12[:r3])\n",
    "V12 = V12[:r3,:]\n",
    "\n",
    "V12 = S12 @ V12\n",
    "U12 = U12.reshape((r1,n,r3))"
   ]
  },
  {
   "cell_type": "code",
   "execution_count": 56,
   "id": "d837f26f",
   "metadata": {},
   "outputs": [
    {
     "name": "stdout",
     "output_type": "stream",
     "text": [
      "eps_AB = 8.473796271288757e-16\n"
     ]
    }
   ],
   "source": [
    "A = A.reshape((n,n,n,n))\n",
    "B = ncon([U11, V11, U12, V12], [[-1,1],[1,-2,2],[2,-3,3],[3,-4]])\n",
    "eps_AB = LA.norm(A-B) / LA.norm(A)\n",
    "print(\"eps_AB = \" + str(eps_AB))"
   ]
  },
  {
   "cell_type": "code",
   "execution_count": 58,
   "id": "4c088ab1",
   "metadata": {},
   "outputs": [
    {
     "name": "stdout",
     "output_type": "stream",
     "text": [
      "rang of TT is 2\n"
     ]
    }
   ],
   "source": [
    "r = max(r2, r1, r3)\n",
    "print(\"rang of TT is \" + str(r))"
   ]
  },
  {
   "cell_type": "code",
   "execution_count": null,
   "id": "0c3d300e",
   "metadata": {},
   "outputs": [],
   "source": []
  }
 ],
 "metadata": {
  "kernelspec": {
   "display_name": "Python 3",
   "language": "python",
   "name": "python3"
  },
  "language_info": {
   "codemirror_mode": {
    "name": "ipython",
    "version": 3
   },
   "file_extension": ".py",
   "mimetype": "text/x-python",
   "name": "python",
   "nbconvert_exporter": "python",
   "pygments_lexer": "ipython3",
   "version": "3.8.8"
  }
 },
 "nbformat": 4,
 "nbformat_minor": 5
}
