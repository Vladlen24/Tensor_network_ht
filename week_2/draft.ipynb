{
 "cells": [
  {
   "cell_type": "code",
   "execution_count": 1,
   "id": "d255711f",
   "metadata": {},
   "outputs": [],
   "source": [
    "import numpy as np\n",
    "from numpy import linalg as LA\n",
    "from ncon import ncon\n",
    "import matplotlib.pyplot as plt"
   ]
  },
  {
   "cell_type": "code",
   "execution_count": 13,
   "id": "afba648f",
   "metadata": {},
   "outputs": [
    {
     "name": "stdout",
     "output_type": "stream",
     "text": [
      "[[[0.6161293  0.12134896]\n",
      "  [0.51802025 0.18696343]]\n",
      "\n",
      " [[0.05542994 0.15655452]\n",
      "  [0.51867226 0.41626459]]]\n",
      "[[[-0.58080993  0.58734853]\n",
      "  [-0.52228947  0.18932258]]\n",
      "\n",
      " [[-0.1104895  -0.46926787]\n",
      "  [-0.61454504 -0.63163781]]]\n",
      "[[1.05044787 0.        ]\n",
      " [0.         0.25313905]]\n",
      "[[-0.90750094 -0.42005005]\n",
      " [ 0.42005005 -0.90750094]]\n"
     ]
    },
    {
     "data": {
      "text/plain": [
       "2.172217384091364e-16"
      ]
     },
     "execution_count": 13,
     "metadata": {},
     "output_type": "execute_result"
    }
   ],
   "source": [
    "# SVD\n",
    "\n",
    "d = 2\n",
    "A = np.random.rand(d,d,d)\n",
    "print(A)\n",
    "Am = A.reshape(d**2,d)\n",
    "Um,Sm,Vh = LA.svd(Am, full_matrices=False)\n",
    "U = Um.reshape(d,d,d)\n",
    "S = np.diag(Sm)\n",
    "print(U)\n",
    "print(S)\n",
    "print(Vh)\n",
    "Af = ncon([U,S,Vh],[[-1,-2,1],[1,2],[2,-3]])\n",
    "dA = LA.norm(Af-A)\n",
    "dA"
   ]
  },
  {
   "cell_type": "code",
   "execution_count": 20,
   "id": "71a700c5",
   "metadata": {},
   "outputs": [
    {
     "name": "stdout",
     "output_type": "stream",
     "text": [
      "182.4676586510812\n",
      "182.46765865108063\n",
      "182.4676586510812\n"
     ]
    }
   ],
   "source": [
    "# frobenius norm\n",
    "\n",
    "d = 10\n",
    "A = np.random.rand(d,d,d,d,d)\n",
    "cvec = [k+1 for k in range(np.ndim(A))]\n",
    "frobA0 = np.sqrt(ncon([A, np.conj(A)], [cvec,cvec]))\n",
    "print(frobA0)\n",
    "frobA1 = np.sqrt(sum(abs(A.flatten()**2)))\n",
    "print(frobA1)\n",
    "frobA2 = LA.norm(A)\n",
    "print(frobA2)"
   ]
  },
  {
   "cell_type": "code",
   "execution_count": 41,
   "id": "c30feb2e",
   "metadata": {},
   "outputs": [
    {
     "name": "stdout",
     "output_type": "stream",
     "text": [
      "1.0\n",
      "0.49549840413784807\n",
      "0.49123583746254285\n",
      "0.48696417054490126\n",
      "0.4827225365129858\n",
      "0.4786068428962808\n",
      "0.47451785096139937\n",
      "0.47043234358701647\n",
      "0.4664502038946529\n",
      "0.46248100936921127\n",
      "0.45849350038656095\n"
     ]
    },
    {
     "data": {
      "text/plain": [
       "2.8298057141365386e-15"
      ]
     },
     "execution_count": 41,
     "metadata": {},
     "output_type": "execute_result"
    }
   ],
   "source": [
    "# Approximation by truncation\n",
    "\n",
    "d = 10\n",
    "A = np.random.rand(d,d,d,d,d)\n",
    "U1,S1,V1 = LA.svd(A.reshape(d**3, d**2), full_matrices = False)\n",
    "U = U1.reshape(d,d,d,d**2)\n",
    "V = V1.reshape(d**2,d,d)\n",
    "S = np.diag(S1)\n",
    "\n",
    "for i in range(d+1):\n",
    "    V_t = V[:i,:,:]\n",
    "    S_t = S[:i,:i]\n",
    "    U_t = U[:,:,:,:i]\n",
    "    B = ncon([U_t, S_t, V_t], [[-1,-2,-3,1],[1,2],[2,-4,-5]])\n",
    "    eps_AB = LA.norm(A-B) / LA.norm(A)\n",
    "    print(eps_AB)\n",
    "\n",
    "A_svd = ncon([U,S,V], [[-1,-2,-3,1],[1,2],[2,-4,-5]])\n",
    "LA.norm(A_svd - A)/LA.norm(A)"
   ]
  },
  {
   "cell_type": "code",
   "execution_count": 5,
   "id": "c18826a1",
   "metadata": {},
   "outputs": [
    {
     "name": "stdout",
     "output_type": "stream",
     "text": [
      "eps = 0.040409915684386455 r_del = 450\n"
     ]
    }
   ],
   "source": [
    "# effective rank\n",
    "\n",
    "d = 500\n",
    "A = (np.diag(np.ones(d-1),-1) + np.diag(np.ones(d-1),1))\n",
    "A = A / LA.norm(A)\n",
    "\n",
    "eps = 1e-2\n",
    "U,S,V = LA.svd(A)\n",
    "#r_del = sum(S > eps)\n",
    "r_del = 0\n",
    "while(S[r_del] > eps):\n",
    "    r_del += 1\n",
    "    \n",
    "epsilon = np.sqrt(sum(S[r_del:]**2))\n",
    "\n",
    "print(\"eps = \" + str(epsilon), \"r_del = \" + str(r_del))"
   ]
  },
  {
   "cell_type": "code",
   "execution_count": 24,
   "id": "7003c511",
   "metadata": {},
   "outputs": [
    {
     "data": {
      "image/png": "[encoded data removed]",
      "text/plain": [
       "<Figure size 432x288 with 1 Axes>"
      ]
     },
     "metadata": {
      "needs_background": "light"
     },
     "output_type": "display_data"
    }
   ],
   "source": [
    "d = 500\n",
    "A = (np.diag(np.ones(d-1),-1) + np.diag(np.ones(d-1),1))\n",
    "A = A / LA.norm(A)\n",
    "U,S,V = LA.svd(A)\n",
    "eps_AB = []\n",
    "for i in range(d):\n",
    "    V_t = V[:i,:]\n",
    "    S_t = np.diag(S[:i])\n",
    "    U_t = U[:,:i]\n",
    "    B = ncon([U_t, S_t, V_t], [[-1,1],[1,2],[2,-2]])\n",
    "    eps_AB.append(LA.norm(A-B) / LA.norm(A))\n",
    "\n",
    "x = [i for i in range(d)]\n",
    "plt.plot(x, eps_AB)\n",
    "plt.ylabel(\"eps_err\", fontsize=18)\n",
    "plt.xlabel(\"eff_rank\", fontsize=18)\n",
    "plt.xlim([0,d])\n",
    "plt.ylim([0,1])\n",
    "plt.grid(True)\n",
    "plt.show()"
   ]
  },
  {
   "cell_type": "code",
   "execution_count": 2,
   "id": "43214f7a",
   "metadata": {
    "scrolled": false
   },
   "outputs": [
    {
     "name": "stdout",
     "output_type": "stream",
     "text": [
      "r_del = 3\n"
     ]
    },
    {
     "data": {
      "image/png": "[encoded data removed]",
      "text/plain": [
       "<Figure size 432x288 with 1 Axes>"
      ]
     },
     "metadata": {
      "needs_background": "light"
     },
     "output_type": "display_data"
    }
   ],
   "source": [
    "d1 = 10\n",
    "d2 = 8\n",
    "A = []\n",
    "for i in range(d1):\n",
    "    for j in range(d1):\n",
    "        for l in range(d2):\n",
    "            for k in range(d2):\n",
    "                A.append(np.sqrt(i+2*j+3*k+4*l+10))\n",
    "A = np.array(A)\n",
    "A = A.reshape(d1,d1,d2,d2)\n",
    "A = A / LA.norm(A)\n",
    "U_1,S_1,V_1 = LA.svd(A.reshape(d1**2, d2**2), full_matrices=False)\n",
    "U = U_1.reshape(d1,d1,d2**2)\n",
    "V = V_1.reshape(d2**2,d2,d2)\n",
    "\n",
    "eps = 1e-4\n",
    "r_del = 0\n",
    "while(S_1[r_del] > eps):\n",
    "    r_del += 1    \n",
    "epsilon = np.sqrt(sum(S_1[r_del:]**2))\n",
    "print(\"r_del = \" + str(r_del))\n",
    "\n",
    "eps_AB = []\n",
    "for i in range(d2):\n",
    "    V_t = V[:i,:,:]\n",
    "    S_t = np.diag(S_1[:i])\n",
    "    U_t = U[:,:,:i]\n",
    "    B = ncon([U_t, S_t, V_t], [[-1,-2,1],[1,2],[2,-3,-4]])\n",
    "    eps_AB.append(LA.norm(A-B) / LA.norm(A))\n",
    "\n",
    "x = [i for i in range(d2)]\n",
    "plt.plot(x, eps_AB)\n",
    "plt.ylabel(\"eps_err\", fontsize=18)\n",
    "plt.xlabel(\"eff_rank\", fontsize=18)\n",
    "plt.xlim([0,d2])\n",
    "plt.ylim([0,1])\n",
    "plt.grid(True)\n",
    "plt.show()"
   ]
  },
  {
   "cell_type": "code",
   "execution_count": null,
   "id": "e7b04521",
   "metadata": {},
   "outputs": [],
   "source": []
  }
 ],
 "metadata": {
  "kernelspec": {
   "display_name": "Python 3",
   "language": "python",
   "name": "python3"
  },
  "language_info": {
   "codemirror_mode": {
    "name": "ipython",
    "version": 3
   },
   "file_extension": ".py",
   "mimetype": "text/x-python",
   "name": "python",
   "nbconvert_exporter": "python",
   "pygments_lexer": "ipython3",
   "version": "3.8.8"
  }
 },
 "nbformat": 4,
 "nbformat_minor": 5
}
