{
 "cells": [
  {
   "cell_type": "code",
   "execution_count": 1,
   "id": "623c4e83",
   "metadata": {},
   "outputs": [],
   "source": [
    "import numpy as np\n",
    "from numpy import linalg as LA\n",
    "from ncon import ncon\n",
    "import matplotlib.pyplot as plt"
   ]
  },
  {
   "cell_type": "code",
   "execution_count": 2,
   "id": "9787de95",
   "metadata": {},
   "outputs": [
    {
     "name": "stdout",
     "output_type": "stream",
     "text": [
      "r_del = 3\n"
     ]
    },
    {
     "data": {
      "image/png": "[encoded data removed]",
      "text/plain": [
       "<Figure size 432x288 with 1 Axes>"
      ]
     },
     "metadata": {
      "needs_background": "light"
     },
     "output_type": "display_data"
    }
   ],
   "source": [
    "d1 = 10\n",
    "d2 = 8\n",
    "A = []\n",
    "for i in range(d1):\n",
    "    for j in range(d1):\n",
    "        for l in range(d2):\n",
    "            for k in range(d2):\n",
    "                A.append(np.sqrt(i+2*j+3*k+4*l+10))\n",
    "A = np.array(A)\n",
    "A = A.reshape(d1,d1,d2,d2)\n",
    "A = A / LA.norm(A)\n",
    "U_1,S_1,V_1 = LA.svd(A.reshape(d1**2, d2**2), full_matrices=False)\n",
    "U = U_1.reshape(d1,d1,d2**2)\n",
    "V = V_1.reshape(d2**2,d2,d2)\n",
    "\n",
    "eps = 1e-4\n",
    "r_del = 0\n",
    "while(S_1[r_del] > eps):\n",
    "    r_del += 1    \n",
    "epsilon = np.sqrt(sum(S_1[r_del:]**2))\n",
    "print(\"r_del = \" + str(r_del))\n",
    "\n",
    "eps_AB = []\n",
    "for i in range(d2):\n",
    "    V_t = V[:i,:,:]\n",
    "    S_t = np.diag(S_1[:i])\n",
    "    U_t = U[:,:,:i]\n",
    "    B = ncon([U_t, S_t, V_t], [[-1,-2,1],[1,2],[2,-3,-4]])\n",
    "    eps_AB.append(LA.norm(A-B) / LA.norm(A))\n",
    "\n",
    "x = [i for i in range(d2)]\n",
    "plt.plot(x, eps_AB)\n",
    "plt.ylabel(\"eps_err\", fontsize=18)\n",
    "plt.xlabel(\"eff_rank\", fontsize=18)\n",
    "plt.xlim([0,d2])\n",
    "# plt.ylim([0,1])\n",
    "plt.yscale('log')\n",
    "plt.grid(True)\n",
    "plt.show()"
   ]
  },
  {
   "cell_type": "code",
   "execution_count": null,
   "id": "3f8bd6d1",
   "metadata": {},
   "outputs": [],
   "source": []
  }
 ],
 "metadata": {
  "kernelspec": {
   "display_name": "Python 3",
   "language": "python",
   "name": "python3"
  },
  "language_info": {
   "codemirror_mode": {
    "name": "ipython",
    "version": 3
   },
   "file_extension": ".py",
   "mimetype": "text/x-python",
   "name": "python",
   "nbconvert_exporter": "python",
   "pygments_lexer": "ipython3",
   "version": "3.8.8"
  }
 },
 "nbformat": 4,
 "nbformat_minor": 5
}
